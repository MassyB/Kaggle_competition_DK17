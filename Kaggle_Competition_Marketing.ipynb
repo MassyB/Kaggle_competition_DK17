{
 "cells": [
  {
   "cell_type": "code",
   "execution_count": 1,
   "metadata": {
    "collapsed": false
   },
   "outputs": [],
   "source": [
    "import pandas as pd\n",
    "import numpy as np\n",
    "import matplotlib as mp\n",
    "import matplotlib.pyplot as plt\n",
    "%matplotlib inline"
   ]
  },
  {
   "cell_type": "code",
   "execution_count": 2,
   "metadata": {
    "collapsed": false
   },
   "outputs": [],
   "source": [
    "train_df = pd.read_csv(\"train.csv\", sep=\";\")\n",
    "test_df = pd.read_csv(\"test.csv\", sep=\";\", header=None, names=train_df.columns.values)\n",
    "\n",
    "# get all the data\n",
    "all_data_df = train_df.append(test_df)"
   ]
  },
  {
   "cell_type": "code",
   "execution_count": 3,
   "metadata": {
    "collapsed": false
   },
   "outputs": [],
   "source": [
    "## cleaning the data, get rid of the NaN values in some \n",
    "for column_to_cure in [\"job\", \"marital\", \"education\", \"loan\", \"housing\", \"default\"]:\n",
    "    most_commun = all_data_df[column_to_cure].mode().iloc[0]\n",
    "    all_data_df[column_to_cure].replace(\"unknown\", most_commun, inplace=True)"
   ]
  },
  {
   "cell_type": "code",
   "execution_count": 4,
   "metadata": {
    "collapsed": true
   },
   "outputs": [],
   "source": [
    "## encode the target value\n",
    "all_data_df['y'].replace(\"yes\", 1.0, inplace=True)\n",
    "all_data_df['y'].replace(\"no\", 0.0, inplace=True)"
   ]
  },
  {
   "cell_type": "code",
   "execution_count": 5,
   "metadata": {
    "collapsed": false
   },
   "outputs": [],
   "source": [
    "## drop the default column (there is only one yes among all data points)\n",
    "all_data_df.drop([\"default\"], axis=1, inplace=True)"
   ]
  },
  {
   "cell_type": "code",
   "execution_count": 6,
   "metadata": {
    "collapsed": false
   },
   "outputs": [],
   "source": [
    "## Adding features\n",
    "## using one-hot-encoding on all the categorical columns except the y which is the target\n",
    "categorical_columns = list(all_data_df.dtypes[all_data_df.dtypes == \"object\"].index.values)\n",
    "all_data_df = pd.get_dummies(all_data_df, columns=categorical_columns)"
   ]
  },
  {
   "cell_type": "code",
   "execution_count": 7,
   "metadata": {
    "collapsed": false
   },
   "outputs": [
    {
     "data": {
      "text/plain": [
       "(4119, 56)"
      ]
     },
     "execution_count": 7,
     "metadata": {},
     "output_type": "execute_result"
    }
   ],
   "source": [
    "all_data_df.shape"
   ]
  },
  {
   "cell_type": "code",
   "execution_count": 8,
   "metadata": {
    "collapsed": false,
    "scrolled": true
   },
   "outputs": [
    {
     "data": {
      "text/plain": [
       "age                                int64\n",
       "duration                           int64\n",
       "campaign                           int64\n",
       "pdays                              int64\n",
       "previous                           int64\n",
       "emp.var.rate                     float64\n",
       "cons.price.idx                   float64\n",
       "cons.conf.idx                    float64\n",
       "euribor3m                        float64\n",
       "nr.employed                      float64\n",
       "y                                float64\n",
       "job_admin.                       float64\n",
       "job_blue-collar                  float64\n",
       "job_entrepreneur                 float64\n",
       "job_housemaid                    float64\n",
       "job_management                   float64\n",
       "job_retired                      float64\n",
       "job_self-employed                float64\n",
       "job_services                     float64\n",
       "job_student                      float64\n",
       "job_technician                   float64\n",
       "job_unemployed                   float64\n",
       "marital_divorced                 float64\n",
       "marital_married                  float64\n",
       "marital_single                   float64\n",
       "education_basic.4y               float64\n",
       "education_basic.6y               float64\n",
       "education_basic.9y               float64\n",
       "education_high.school            float64\n",
       "education_illiterate             float64\n",
       "education_professional.course    float64\n",
       "education_university.degree      float64\n",
       "housing_no                       float64\n",
       "housing_yes                      float64\n",
       "loan_no                          float64\n",
       "loan_yes                         float64\n",
       "contact_cellular                 float64\n",
       "contact_telephone                float64\n",
       "month_apr                        float64\n",
       "month_aug                        float64\n",
       "month_dec                        float64\n",
       "month_jul                        float64\n",
       "month_jun                        float64\n",
       "month_mar                        float64\n",
       "month_may                        float64\n",
       "month_nov                        float64\n",
       "month_oct                        float64\n",
       "month_sep                        float64\n",
       "day_of_week_fri                  float64\n",
       "day_of_week_mon                  float64\n",
       "day_of_week_thu                  float64\n",
       "day_of_week_tue                  float64\n",
       "day_of_week_wed                  float64\n",
       "poutcome_failure                 float64\n",
       "poutcome_nonexistent             float64\n",
       "poutcome_success                 float64\n",
       "dtype: object"
      ]
     },
     "execution_count": 8,
     "metadata": {},
     "output_type": "execute_result"
    }
   ],
   "source": [
    "all_data_df.dtypes"
   ]
  },
  {
   "cell_type": "markdown",
   "metadata": {},
   "source": [
    "### Get the ndarray"
   ]
  },
  {
   "cell_type": "code",
   "execution_count": 9,
   "metadata": {
    "collapsed": false
   },
   "outputs": [],
   "source": [
    "## get the Kaggle train and test dataset\n",
    "test_df = all_data_df[all_data_df['y'].isnull()]\n",
    "train_df= all_data_df[all_data_df['y'].notnull()]"
   ]
  },
  {
   "cell_type": "code",
   "execution_count": 10,
   "metadata": {
    "collapsed": false
   },
   "outputs": [],
   "source": [
    "## getting the numpy equivalent \n",
    "y = train_df['y'].values\n",
    "X = train_df.loc[:, train_df.columns != 'y'].values\n",
    "X_Kaggle = test_df.loc[:, test_df.columns != 'y'].values"
   ]
  },
  {
   "cell_type": "code",
   "execution_count": 11,
   "metadata": {
    "collapsed": false
   },
   "outputs": [
    {
     "data": {
      "text/plain": [
       "(2999, 55)"
      ]
     },
     "execution_count": 11,
     "metadata": {},
     "output_type": "execute_result"
    }
   ],
   "source": [
    "X.shape"
   ]
  },
  {
   "cell_type": "code",
   "execution_count": 12,
   "metadata": {
    "collapsed": false
   },
   "outputs": [
    {
     "data": {
      "text/plain": [
       "(1120, 55)"
      ]
     },
     "execution_count": 12,
     "metadata": {},
     "output_type": "execute_result"
    }
   ],
   "source": [
    "X_Kaggle.shape"
   ]
  },
  {
   "cell_type": "code",
   "execution_count": 15,
   "metadata": {
    "collapsed": true
   },
   "outputs": [],
   "source": [
    "# make the train and test set \n",
    "from sklearn.model_selection import train_test_split\n",
    "# the test size \n",
    "test_size= 0.3\n",
    "\n",
    "X_train, X_test, y_train, y_test = train_test_split(X,y, stratify=y, test_size= test_size, random_state=0)"
   ]
  },
  {
   "cell_type": "code",
   "execution_count": 16,
   "metadata": {
    "collapsed": false
   },
   "outputs": [
    {
     "name": "stdout",
     "output_type": "stream",
     "text": [
      "train =(2099, 55), test =(900, 55)\n"
     ]
    }
   ],
   "source": [
    "print(\"train =\"+ str(X_train.shape) + \", test =\"+ str(X_test.shape))"
   ]
  },
  {
   "cell_type": "markdown",
   "metadata": {},
   "source": [
    "### Feature selection"
   ]
  },
  {
   "cell_type": "code",
   "execution_count": 17,
   "metadata": {
    "collapsed": false
   },
   "outputs": [
    {
     "name": "stderr",
     "output_type": "stream",
     "text": [
      "/home/bartman/App/anaconda3/envs/kaggle_ml/lib/python3.5/site-packages/sklearn/feature_selection/univariate_selection.py:113: UserWarning: Features [28] are constant.\n",
      "  UserWarning)\n"
     ]
    },
    {
     "data": {
      "text/plain": [
       "array(['age', 'duration', 'campaign', 'pdays', 'previous', 'emp.var.rate',\n",
       "       'cons.price.idx', 'cons.conf.idx', 'euribor3m', 'nr.employed',\n",
       "       'job_admin.', 'job_management', 'job_retired', 'job_unemployed',\n",
       "       'education_university.degree', 'contact_cellular',\n",
       "       'contact_telephone', 'month_dec', 'month_jun', 'month_mar',\n",
       "       'month_may', 'month_oct', 'month_sep', 'day_of_week_fri',\n",
       "       'poutcome_failure', 'poutcome_nonexistent', 'poutcome_success'], dtype=object)"
      ]
     },
     "execution_count": 17,
     "metadata": {},
     "output_type": "execute_result"
    }
   ],
   "source": [
    "# using percentiles and the 50 precent most influent\n",
    "from sklearn.feature_selection import SelectPercentile\n",
    "\n",
    "select = SelectPercentile(percentile=50)\n",
    "select.fit(X_train, y_train)\n",
    "\n",
    "# get the most correlated data\n",
    "all_data_df.columns.values[all_data_df.columns.values!='y'][select.get_support()]"
   ]
  },
  {
   "cell_type": "code",
   "execution_count": 18,
   "metadata": {
    "collapsed": false
   },
   "outputs": [
    {
     "data": {
      "text/plain": [
       "array(['age', 'duration', 'campaign', 'pdays', 'cons.price.idx',\n",
       "       'cons.conf.idx', 'euribor3m', 'nr.employed', 'job_admin.',\n",
       "       'job_entrepreneur', 'job_technician', 'job_unemployed',\n",
       "       'marital_married', 'education_basic.6y', 'education_high.school',\n",
       "       'education_university.degree', 'housing_no', 'housing_yes',\n",
       "       'contact_cellular', 'contact_telephone', 'month_jul', 'month_jun',\n",
       "       'month_oct', 'month_sep', 'day_of_week_fri', 'day_of_week_mon',\n",
       "       'day_of_week_thu', 'day_of_week_wed'], dtype=object)"
      ]
     },
     "execution_count": 18,
     "metadata": {},
     "output_type": "execute_result"
    }
   ],
   "source": [
    "# using model based feature selection \n",
    "from sklearn.tree import DecisionTreeClassifier\n",
    "from sklearn.feature_selection import SelectFromModel\n",
    "\n",
    "select1= SelectFromModel(DecisionTreeClassifier(random_state=0),threshold= \"median\")\n",
    "select1.fit(X_train,y_train)\n",
    "\n",
    "# get the selected features \n",
    "all_data_df.columns.values[all_data_df.columns.values != 'y'][select1.get_support()]"
   ]
  },
  {
   "cell_type": "code",
   "execution_count": 19,
   "metadata": {
    "collapsed": false
   },
   "outputs": [
    {
     "data": {
      "text/plain": [
       "array(['age', 'duration', 'campaign', 'pdays', 'previous', 'emp.var.rate',\n",
       "       'cons.price.idx', 'cons.conf.idx', 'euribor3m', 'nr.employed',\n",
       "       'job_admin.', 'job_blue-collar', 'job_management', 'job_retired',\n",
       "       'job_self-employed', 'job_technician', 'job_unemployed',\n",
       "       'marital_married', 'education_high.school', 'housing_yes',\n",
       "       'contact_telephone', 'month_oct', 'month_sep', 'day_of_week_fri',\n",
       "       'day_of_week_mon', 'day_of_week_thu', 'day_of_week_wed'], dtype=object)"
      ]
     },
     "execution_count": 19,
     "metadata": {},
     "output_type": "execute_result"
    }
   ],
   "source": [
    "# using iterative feature selection \n",
    "from sklearn.feature_selection import RFE\n",
    "select2 = RFE(DecisionTreeClassifier(random_state=0), n_features_to_select=27)\n",
    "select2.fit(X_train,y_train)\n",
    "\n",
    "# see the selected features \n",
    "all_data_df.columns.values[all_data_df.columns.values != 'y'][select2.get_support()]"
   ]
  },
  {
   "cell_type": "code",
   "execution_count": 20,
   "metadata": {
    "collapsed": true
   },
   "outputs": [],
   "source": [
    "# rescaling the data\n",
    "from sklearn.preprocessing import MinMaxScaler\n",
    "\n",
    "scaler = MinMaxScaler()\n",
    "scaler.fit(X_train)\n",
    "X_train_s1 = scaler.transform(X_train)"
   ]
  },
  {
   "cell_type": "code",
   "execution_count": 22,
   "metadata": {
    "collapsed": false
   },
   "outputs": [
    {
     "data": {
      "text/plain": [
       "array([], dtype=object)"
      ]
     },
     "execution_count": 22,
     "metadata": {},
     "output_type": "execute_result"
    }
   ],
   "source": [
    "# see if the scaling influences the RFE\n",
    "select2.fit(X_train_s1,y_train)\n",
    "f1 = all_data_df.columns.values[all_data_df.columns.values != 'y'][select2.get_support()]\n",
    "select2.fit(X_train,y_train)\n",
    "f2 = all_data_df.columns.values[all_data_df.columns.values != 'y'][select2.get_support()]\n",
    "\n",
    "np.setdiff1d(f1,f2)"
   ]
  },
  {
   "cell_type": "code",
   "execution_count": 38,
   "metadata": {
    "collapsed": false
   },
   "outputs": [],
   "source": [
    "# deal with the imbalanced data\n",
    "from imblearn.over_sampling import SMOTE\n",
    "from imblearn.under_sampling import RandomUnderSampler\n",
    "X_s1, y_s1 = SMOTE(kind='borderline1', ratio='minority', random_state=0).fit_sample(X_train, y_train)\n",
    "X_s2, y_s2 = SMOTE(kind='borderline2', ratio='minority', random_state=0).fit_sample(X_train, y_train)\n",
    "X_s3, y_s3 = SMOTE(kind='svm', ratio='minority', random_state=0).fit_sample(X_train, y_train)\n",
    "X_s4, y_s4 = RandomUnderSampler(random_state=0).fit_sample(X_train,y_train)"
   ]
  },
  {
   "cell_type": "code",
   "execution_count": 39,
   "metadata": {
    "collapsed": false
   },
   "outputs": [
    {
     "data": {
      "text/plain": [
       "Counter({0.0: 232, 1.0: 232})"
      ]
     },
     "execution_count": 39,
     "metadata": {},
     "output_type": "execute_result"
    }
   ],
   "source": []
  },
  {
   "cell_type": "code",
   "execution_count": 40,
   "metadata": {
    "collapsed": false
   },
   "outputs": [
    {
     "data": {
      "text/plain": [
       "0.48257707560021212"
      ]
     },
     "execution_count": 40,
     "metadata": {},
     "output_type": "execute_result"
    }
   ],
   "source": [
    "# see the result of oversampling on rf\n",
    "from sklearn.ensemble import RandomForestClassifier\n",
    "from sklearn.metrics import matthews_corrcoef\n",
    "\n",
    "rf  = RandomForestClassifier().fit(X_s4, y_s4)\n",
    "matthews_corrcoef(y_true=y_test, y_pred= rf.predict(X_test))\n"
   ]
  },
  {
   "cell_type": "markdown",
   "metadata": {},
   "source": [
    "### using piplines"
   ]
  },
  {
   "cell_type": "code",
   "execution_count": 78,
   "metadata": {
    "collapsed": false
   },
   "outputs": [],
   "source": [
    "from imblearn.pipeline import make_pipeline\n",
    "from imblearn.under_sampling import EditedNearestNeighbours, TomekLinks\n",
    "from sklearn.ensemble import AdaBoostClassifier\n",
    "from sklearn.svm import SVC\n",
    "from sklearn.neural_network import MLPClassifier\n",
    "\n",
    "r_state = 0\n",
    "n_folds = 5\n",
    "mcc = make_scorer(matthews_corrcoef)"
   ]
  },
  {
   "cell_type": "code",
   "execution_count": 79,
   "metadata": {
    "collapsed": false
   },
   "outputs": [],
   "source": [
    "#select a third of the features (half of the initial features)\n",
    "n_features_to_select= X.shape[1] // 3\n",
    "\n",
    "# the scaler\n",
    "minMax_scaler = MinMaxScaler()\n",
    "# the feature_selector\n",
    "RFE_transformer = RFE(DecisionTreeClassifier(random_state=r_state), n_features_to_select )\n",
    "\n",
    "# the samplers\n",
    "## over_samplers \n",
    "smote_bline1_sampler = SMOTE(kind='borderline1', random_state=r_state)\n",
    "smote_bline2_sampler = SMOTE(kind='borderline2', random_state=r_state)\n",
    "smote_svm_sampler = SMOTE(kind='svm', random_state=r_state)\n",
    "\n",
    "## under samplers\n",
    "enn_sampler = EditedNearestNeighbours(random_state=r_state)\n",
    "tomek_links_sampler = TomekLinks(random_state=r_state)\n",
    "\n",
    "# the estimator\n",
    "rf = RandomForestClassifier(random_state=r_state)\n",
    "adaBoost  = AdaBoostClassifier(random_state= r_state)\n",
    "svc = SVC()\n",
    "mlp = MLPClassifier(solver='lbfgs', alpha=1e-5,hidden_layer_sizes=(15,), random_state=r_state)\n",
    "\n",
    "# the pipeline\n",
    "pipeline1 = make_pipeline(minMax_scaler, RFE_transformer, smote_svm_sampler, rf)\n",
    "pipeline2 = make_pipeline(minMax_scaler, RFE_transformer, smote_svm_sampler, enn_sampler, rf)\n",
    "pipeline3 = make_pipeline(minMax_scaler, RFE_transformer, smote_svm_sampler, adaBoost)\n",
    "pipeline4 = make_pipeline(minMax_scaler, RFE_transformer, smote_svm_sampler, svc)\n",
    "pipeline5 = make_pipeline(minMax_scaler, RFE_transformer, smote_svm_sampler, mlp)\n"
   ]
  },
  {
   "cell_type": "code",
   "execution_count": 80,
   "metadata": {
    "collapsed": false
   },
   "outputs": [
    {
     "data": {
      "text/plain": [
       "array([ 0.42518695,  0.4165885 ,  0.57709545,  0.46470108,  0.41759908])"
      ]
     },
     "execution_count": 80,
     "metadata": {},
     "output_type": "execute_result"
    }
   ],
   "source": [
    "# runing cross_validation\n",
    "\n",
    "cross_val_score(pipeline5, X, y, scoring=mcc, cv=n_folds)"
   ]
  },
  {
   "cell_type": "markdown",
   "metadata": {},
   "source": [
    "### Choose a classifier"
   ]
  },
  {
   "cell_type": "markdown",
   "metadata": {},
   "source": [
    "Random Forest"
   ]
  },
  {
   "cell_type": "code",
   "execution_count": 34,
   "metadata": {
    "collapsed": false
   },
   "outputs": [],
   "source": [
    "## Random forest with a grid search on it\n",
    "from sklearn.ensemble import RandomForestClassifier\n",
    "from sklearn.model_selection import GridSearchCV\n",
    "from sklearn.metrics import make_scorer, matthews_corrcoef\n",
    "\n",
    "\n",
    "grid_params_rf = {\"class_weight\": [None, \"balanced\"],\n",
    "                  \"n_estimators\": [_ * 10 for _ in range(1,11)],\n",
    "                  \"max_features\": [_ * 10 for _ in range(1,6)] + [X_train.shape[1]] ,\n",
    "                  \"max_depth\":    [ 10 + _ * 10 for _ in range(5)],\n",
    "                  \"random_state\": [0]}\n",
    "\n",
    "mcc = make_scorer(matthews_corrcoef)\n",
    "k_fold = 3\n",
    "\n",
    "classifier = GridSearchCV(RandomForestClassifier(),grid_params_rf, cv = k_fold, scoring= mcc)"
   ]
  },
  {
   "cell_type": "code",
   "execution_count": 35,
   "metadata": {
    "collapsed": false,
    "scrolled": true
   },
   "outputs": [
    {
     "data": {
      "text/plain": [
       "GridSearchCV(cv=3, error_score='raise',\n",
       "       estimator=RandomForestClassifier(bootstrap=True, class_weight=None, criterion='gini',\n",
       "            max_depth=None, max_features='auto', max_leaf_nodes=None,\n",
       "            min_impurity_split=1e-07, min_samples_leaf=1,\n",
       "            min_samples_split=2, min_weight_fraction_leaf=0.0,\n",
       "            n_estimators=10, n_jobs=1, oob_score=False, random_state=None,\n",
       "            verbose=0, warm_start=False),\n",
       "       fit_params={}, iid=True, n_jobs=1,\n",
       "       param_grid={'max_depth': [10, 20, 30, 40, 50], 'n_estimators': [10, 20, 30, 40, 50, 60, 70, 80, 90, 100], 'max_features': [10, 20, 30, 40, 50, 57], 'class_weight': [None, 'balanced'], 'random_state': [0]},\n",
       "       pre_dispatch='2*n_jobs', refit=True, return_train_score=True,\n",
       "       scoring=make_scorer(matthews_corrcoef), verbose=0)"
      ]
     },
     "execution_count": 35,
     "metadata": {},
     "output_type": "execute_result"
    }
   ],
   "source": [
    "classifier.fit(X_train, y_train)"
   ]
  },
  {
   "cell_type": "code",
   "execution_count": 52,
   "metadata": {
    "collapsed": false
   },
   "outputs": [
    {
     "data": {
      "text/plain": [
       "GridSearchCV(cv=3, error_score='raise',\n",
       "       estimator=RandomForestClassifier(bootstrap=True, class_weight=None, criterion='gini',\n",
       "            max_depth=None, max_features='auto', max_leaf_nodes=None,\n",
       "            min_impurity_split=1e-07, min_samples_leaf=1,\n",
       "            min_samples_split=2, min_weight_fraction_leaf=0.0,\n",
       "            n_estimators=10, n_jobs=1, oob_score=False, random_state=None,\n",
       "            verbose=0, warm_start=False),\n",
       "       fit_params={}, iid=True, n_jobs=1,\n",
       "       param_grid={'max_depth': [10, 20, 30, 40, 50], 'n_estimators': [10, 20, 30, 40, 50, 60, 70, 80, 90, 100], 'max_features': [10, 20, 30, 40, 50, 57], 'class_weight': [None, 'balanced'], 'random_state': [0]},\n",
       "       pre_dispatch='2*n_jobs', refit=True, return_train_score=True,\n",
       "       scoring=make_scorer(matthews_corrcoef), verbose=0)"
      ]
     },
     "execution_count": 52,
     "metadata": {},
     "output_type": "execute_result"
    }
   ],
   "source": [
    "# try it on all the data we have\n",
    "classifier.fit(X,y)"
   ]
  },
  {
   "cell_type": "code",
   "execution_count": 53,
   "metadata": {
    "collapsed": false
   },
   "outputs": [
    {
     "data": {
      "text/plain": [
       "0.5533145894959921"
      ]
     },
     "execution_count": 53,
     "metadata": {},
     "output_type": "execute_result"
    }
   ],
   "source": [
    "classifier.best_score_"
   ]
  },
  {
   "cell_type": "code",
   "execution_count": 57,
   "metadata": {
    "collapsed": false
   },
   "outputs": [
    {
     "data": {
      "text/plain": [
       "{'class_weight': 'balanced',\n",
       " 'max_depth': 10,\n",
       " 'max_features': 57,\n",
       " 'n_estimators': 80,\n",
       " 'random_state': 0}"
      ]
     },
     "execution_count": 57,
     "metadata": {},
     "output_type": "execute_result"
    }
   ],
   "source": [
    "classifier.best_params_"
   ]
  },
  {
   "cell_type": "code",
   "execution_count": 56,
   "metadata": {
    "collapsed": false
   },
   "outputs": [
    {
     "data": {
      "text/plain": [
       "0.82966606063184034"
      ]
     },
     "execution_count": 56,
     "metadata": {},
     "output_type": "execute_result"
    }
   ],
   "source": [
    "matthews_corrcoef(y_pred=classifier.predict(X_test), y_true=y_test)"
   ]
  },
  {
   "cell_type": "markdown",
   "metadata": {},
   "source": [
    "Googd score for RandomForest, we added data and that's it "
   ]
  },
  {
   "cell_type": "code",
   "execution_count": 58,
   "metadata": {
    "collapsed": false
   },
   "outputs": [],
   "source": [
    "y_prediction = RandomForestClassifier(**classifier.best_params_).fit(X,y).predict(X_Kaggle)\n",
    "\n",
    "#save the prediction\n",
    "\n",
    "submission_df = pd.DataFrame(y_prediction.astype(int), columns=[\"prediction\"])\n",
    "submission_df.index += 1\n",
    "                              \n",
    "submission_df.to_csv(\"rf_prediction\", index_label=\"Id\")"
   ]
  },
  {
   "cell_type": "markdown",
   "metadata": {},
   "source": [
    "SVM"
   ]
  },
  {
   "cell_type": "code",
   "execution_count": 26,
   "metadata": {
    "collapsed": false
   },
   "outputs": [],
   "source": [
    "from sklearn.svm import SVC\n",
    "\n",
    "grid_params_svm = {\"C\": np.logspace(start=-2, stop=2, base=2,num=10),\n",
    "                   \"kernel\": [\"rbf\"],\n",
    "                   \"gamma\": np.logspace(start=-2, stop=2, base=2,num=10),\n",
    "                   \"class_weight\": [None, \"balanced\"]}\n",
    "\n",
    "classifier_svc = GridSearchCV(SVC(),grid_params_svm, cv = k_fold, scoring= mcc)\n"
   ]
  },
  {
   "cell_type": "code",
   "execution_count": 27,
   "metadata": {
    "collapsed": false
   },
   "outputs": [
    {
     "data": {
      "text/plain": [
       "GridSearchCV(cv=3, error_score='raise',\n",
       "       estimator=SVC(C=1.0, cache_size=200, class_weight=None, coef0=0.0,\n",
       "  decision_function_shape=None, degree=3, gamma='auto', kernel='rbf',\n",
       "  max_iter=-1, probability=False, random_state=None, shrinking=True,\n",
       "  tol=0.001, verbose=False),\n",
       "       fit_params={}, iid=True, n_jobs=1,\n",
       "       param_grid={'kernel': ['rbf'], 'C': array([ 0.25   ,  0.3402 ,  0.46294,  0.62996,  0.85724,  1.16653,\n",
       "        1.5874 ,  2.16012,  2.93947,  4.     ]), 'gamma': array([ 0.25   ,  0.3402 ,  0.46294,  0.62996,  0.85724,  1.16653,\n",
       "        1.5874 ,  2.16012,  2.93947,  4.     ]), 'class_weight': [None, 'balanced']},\n",
       "       pre_dispatch='2*n_jobs', refit=True, return_train_score=True,\n",
       "       scoring=make_scorer(matthews_corrcoef), verbose=0)"
      ]
     },
     "execution_count": 27,
     "metadata": {},
     "output_type": "execute_result"
    }
   ],
   "source": [
    "classifier_svc.fit(X_train,y_train)"
   ]
  },
  {
   "cell_type": "code",
   "execution_count": 30,
   "metadata": {
    "collapsed": false
   },
   "outputs": [
    {
     "data": {
      "text/plain": [
       "{'C': 0.25, 'class_weight': None, 'gamma': 0.25, 'kernel': 'rbf'}"
      ]
     },
     "execution_count": 30,
     "metadata": {},
     "output_type": "execute_result"
    }
   ],
   "source": [
    "classifier_svc.best_params_"
   ]
  },
  {
   "cell_type": "code",
   "execution_count": 31,
   "metadata": {
    "collapsed": false
   },
   "outputs": [
    {
     "data": {
      "text/plain": [
       "array([ 0.25      ,  0.3401975 ,  0.46293736,  0.62996052,  0.85724398,\n",
       "        1.16652904,  1.58740105,  2.16011948,  2.93946898,  4.        ])"
      ]
     },
     "execution_count": 31,
     "metadata": {},
     "output_type": "execute_result"
    }
   ],
   "source": [
    "np.logspace(start=-2, stop=2, base=2,num=10)"
   ]
  },
  {
   "cell_type": "markdown",
   "metadata": {},
   "source": [
    "AdaBoost"
   ]
  },
  {
   "cell_type": "code",
   "execution_count": 33,
   "metadata": {
    "collapsed": false
   },
   "outputs": [],
   "source": [
    "from sklearn.ensemble import AdaBoostClassifier\n",
    "\n",
    "grid_params_ada_boost={\"n_estimators\": [50 * _ for _ in range(1,4)],\n",
    "                       \"algorithm\":[\"SAMME\", \"SAMME.R\"],\n",
    "                        \"random_state\": [0]}\n",
    "\n",
    "classifier_ada_boost= GridSearchCV(AdaBoostClassifier(),grid_params_ada_boost, cv = k_fold, scoring= mcc)\n"
   ]
  },
  {
   "cell_type": "code",
   "execution_count": 34,
   "metadata": {
    "collapsed": false
   },
   "outputs": [
    {
     "data": {
      "text/plain": [
       "GridSearchCV(cv=3, error_score='raise',\n",
       "       estimator=AdaBoostClassifier(algorithm='SAMME.R', base_estimator=None,\n",
       "          learning_rate=1.0, n_estimators=50, random_state=None),\n",
       "       fit_params={}, iid=True, n_jobs=1,\n",
       "       param_grid={'random_state': [0], 'n_estimators': [50, 100, 150], 'algorithm': ['SAMME', 'SAMME.R']},\n",
       "       pre_dispatch='2*n_jobs', refit=True, return_train_score=True,\n",
       "       scoring=make_scorer(matthews_corrcoef), verbose=0)"
      ]
     },
     "execution_count": 34,
     "metadata": {},
     "output_type": "execute_result"
    }
   ],
   "source": [
    "classifier_ada_boost.fit(X_train,y_train)"
   ]
  },
  {
   "cell_type": "code",
   "execution_count": 35,
   "metadata": {
    "collapsed": false
   },
   "outputs": [
    {
     "data": {
      "text/plain": [
       "0.37631141609740365"
      ]
     },
     "execution_count": 35,
     "metadata": {},
     "output_type": "execute_result"
    }
   ],
   "source": [
    "classifier_ada_boost.best_score_"
   ]
  },
  {
   "cell_type": "code",
   "execution_count": 36,
   "metadata": {
    "collapsed": false
   },
   "outputs": [
    {
     "data": {
      "text/plain": [
       "{'algorithm': 'SAMME', 'n_estimators': 100, 'random_state': 0}"
      ]
     },
     "execution_count": 36,
     "metadata": {},
     "output_type": "execute_result"
    }
   ],
   "source": [
    "classifier_ada_boost.best_params_"
   ]
  }
 ],
 "metadata": {
  "anaconda-cloud": {},
  "kernelspec": {
   "display_name": "Python [conda env:kaggle_ml]",
   "language": "python",
   "name": "conda-env-kaggle_ml-py"
  },
  "language_info": {
   "codemirror_mode": {
    "name": "ipython",
    "version": 3
   },
   "file_extension": ".py",
   "mimetype": "text/x-python",
   "name": "python",
   "nbconvert_exporter": "python",
   "pygments_lexer": "ipython3",
   "version": "3.5.2"
  }
 },
 "nbformat": 4,
 "nbformat_minor": 1
}
